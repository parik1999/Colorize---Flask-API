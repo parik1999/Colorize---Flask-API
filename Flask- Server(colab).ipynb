{
  "nbformat": 4,
  "nbformat_minor": 0,
  "metadata": {
    "colab": {
      "name": "Flask.ipynb",
      "provenance": [],
      "collapsed_sections": [],
      "mount_file_id": "1NozO982Jezq-CwUfcVpzNUin_LghKii8",
      "authorship_tag": "ABX9TyMSt+6iOPLgFsWdijrP1NNS"
    },
    "kernelspec": {
      "name": "python3",
      "display_name": "Python 3"
    }
  },
  "cells": [
    {
      "cell_type": "code",
      "metadata": {
        "id": "NddvDkkZ1ysj",
        "colab": {
          "base_uri": "https://localhost:8080/"
        },
        "outputId": "c31f2a10-ffaf-4d5a-d818-0270d847047e"
      },
      "source": [
        "cd /content/drive/My Drive/Colab Notebooks"
      ],
      "execution_count": 1,
      "outputs": [
        {
          "output_type": "stream",
          "text": [
            "/content/drive/My Drive/Colab Notebooks\n"
          ],
          "name": "stdout"
        }
      ]
    },
    {
      "cell_type": "markdown",
      "metadata": {
        "id": "isaOgUuEx_V_"
      },
      "source": [
        "# BW"
      ]
    },
    {
      "cell_type": "code",
      "metadata": {
        "id": "qy3pTsMxyCpF"
      },
      "source": [
        "import numpy as np\n",
        "import cv2\n",
        "\n",
        "net = cv2.dnn.readNetFromCaffe('model/colorization_deploy_v2.prototxt','model/colorization_release_v2.caffemodel')\n",
        "pts = np.load('model/pts_in_hull.npy')\n",
        "\n",
        "class8 = net.getLayerId(\"class8_ab\")\n",
        "conv8 = net.getLayerId(\"conv8_313_rh\")\n",
        "pts = pts.transpose().reshape(2, 313, 1, 1)\n",
        "net.getLayer(class8).blobs = [pts.astype(\"float32\")]\n",
        "net.getLayer(conv8).blobs = [np.full([1, 313], 2.606, dtype=\"float32\")]\n",
        "\n",
        "def colorize(im_name):\n",
        "\timage = cv2.imread(im_name)\n",
        "\tscaled = image.astype(\"float32\") / 255.0\n",
        "\tlab = cv2.cvtColor(scaled, cv2.COLOR_BGR2LAB)\n",
        "\tresized = cv2.resize(lab, (224, 224))\n",
        "\tL = cv2.split(resized)[0]\n",
        "\tL -= 50\n",
        "\tnet.setInput(cv2.dnn.blobFromImage(L))\n",
        "\tab = net.forward()[0, :, :, :].transpose((1, 2, 0))\n",
        "\tab = cv2.resize(ab, (image.shape[1], image.shape[0]))\n",
        "\tL = cv2.split(lab)[0]\n",
        "\tcolorized = np.concatenate((L[:, :, np.newaxis], ab), axis=2)\n",
        "\tcolorized = cv2.cvtColor(colorized, cv2.COLOR_LAB2BGR)\n",
        "\tcolorized = np.clip(colorized, 0, 1)\n",
        "\tcolorized = (255 * colorized).astype(\"uint8\")\n",
        "\tcv2.imwrite(im_name, colorized)\n",
        "\tcv2.waitKey(0)"
      ],
      "execution_count": 2,
      "outputs": []
    },
    {
      "cell_type": "markdown",
      "metadata": {
        "id": "2rnu7Ig9x8qU"
      },
      "source": [
        "# Flask\n",
        "\n",
        "Server"
      ]
    },
    {
      "cell_type": "code",
      "metadata": {
        "id": "6MW8CLvVw-CR",
        "colab": {
          "base_uri": "https://localhost:8080/"
        },
        "outputId": "cab0e59a-10af-4d9c-e2f6-44d01994dc1a"
      },
      "source": [
        "!pip install flask-ngrok"
      ],
      "execution_count": 3,
      "outputs": [
        {
          "output_type": "stream",
          "text": [
            "Collecting flask-ngrok\n",
            "  Downloading https://files.pythonhosted.org/packages/af/6c/f54cb686ad1129e27d125d182f90f52b32f284e6c8df58c1bae54fa1adbc/flask_ngrok-0.0.25-py3-none-any.whl\n",
            "Requirement already satisfied: requests in /usr/local/lib/python3.7/dist-packages (from flask-ngrok) (2.23.0)\n",
            "Requirement already satisfied: Flask>=0.8 in /usr/local/lib/python3.7/dist-packages (from flask-ngrok) (1.1.2)\n",
            "Requirement already satisfied: idna<3,>=2.5 in /usr/local/lib/python3.7/dist-packages (from requests->flask-ngrok) (2.10)\n",
            "Requirement already satisfied: certifi>=2017.4.17 in /usr/local/lib/python3.7/dist-packages (from requests->flask-ngrok) (2020.12.5)\n",
            "Requirement already satisfied: urllib3!=1.25.0,!=1.25.1,<1.26,>=1.21.1 in /usr/local/lib/python3.7/dist-packages (from requests->flask-ngrok) (1.24.3)\n",
            "Requirement already satisfied: chardet<4,>=3.0.2 in /usr/local/lib/python3.7/dist-packages (from requests->flask-ngrok) (3.0.4)\n",
            "Requirement already satisfied: Jinja2>=2.10.1 in /usr/local/lib/python3.7/dist-packages (from Flask>=0.8->flask-ngrok) (2.11.3)\n",
            "Requirement already satisfied: click>=5.1 in /usr/local/lib/python3.7/dist-packages (from Flask>=0.8->flask-ngrok) (7.1.2)\n",
            "Requirement already satisfied: itsdangerous>=0.24 in /usr/local/lib/python3.7/dist-packages (from Flask>=0.8->flask-ngrok) (1.1.0)\n",
            "Requirement already satisfied: Werkzeug>=0.15 in /usr/local/lib/python3.7/dist-packages (from Flask>=0.8->flask-ngrok) (1.0.1)\n",
            "Requirement already satisfied: MarkupSafe>=0.23 in /usr/local/lib/python3.7/dist-packages (from Jinja2>=2.10.1->Flask>=0.8->flask-ngrok) (1.1.1)\n",
            "Installing collected packages: flask-ngrok\n",
            "Successfully installed flask-ngrok-0.0.25\n"
          ],
          "name": "stdout"
        }
      ]
    },
    {
      "cell_type": "code",
      "metadata": {
        "id": "fOL60OPhyn7i",
        "colab": {
          "base_uri": "https://localhost:8080/"
        },
        "outputId": "8fe406da-7b94-45cc-d580-3bed3fc9a251"
      },
      "source": [
        "import os, requests, socket\n",
        "import numpy as np\n",
        "import tensorflow as tf\n",
        "from flask import Flask, request, send_file\n",
        "print(socket.gethostbyname(socket.getfqdn(socket.gethostname())))\n",
        "\n",
        "app = Flask(__name__)\n",
        "\n",
        "from flask_ngrok import run_with_ngrok\n",
        "run_with_ngrok(app)\n",
        "\n",
        "@app.route(\"/<filename>\", methods=[\"POST\",\"GET\"])\n",
        "def post_file(filename):\n",
        "    with open(filename, \"wb\") as fp:\n",
        "        fp.write(request.data)\n",
        "    colorize(filename)\n",
        "    return send_file(filename, mimetype='image/jpeg')\n",
        "\n",
        "app.run()\n",
        "\n",
        "\"\"\"\n",
        "import threading\n",
        "threading.Thread(target=app.run, kwargs={'host':'0.0.0.0','port':80}).start()\n",
        "\"\"\""
      ],
      "execution_count": null,
      "outputs": [
        {
          "output_type": "stream",
          "text": [
            "172.28.0.2\n",
            " * Serving Flask app \"__main__\" (lazy loading)\n",
            " * Environment: production\n",
            "\u001b[31m   WARNING: This is a development server. Do not use it in a production deployment.\u001b[0m\n",
            "\u001b[2m   Use a production WSGI server instead.\u001b[0m\n",
            " * Debug mode: off\n"
          ],
          "name": "stdout"
        },
        {
          "output_type": "stream",
          "text": [
            " * Running on http://127.0.0.1:5000/ (Press CTRL+C to quit)\n"
          ],
          "name": "stderr"
        },
        {
          "output_type": "stream",
          "text": [
            " * Running on http://662c7deeed6a.ngrok.io\n",
            " * Traffic stats available on http://127.0.0.1:4040\n"
          ],
          "name": "stdout"
        },
        {
          "output_type": "stream",
          "text": [
            "127.0.0.1 - - [12/May/2021 12:47:11] \"\u001b[37mGET /img.jpeg HTTP/1.1\u001b[0m\" 200 -\n"
          ],
          "name": "stderr"
        }
      ]
    }
  ]
}